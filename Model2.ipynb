{
 "cells": [
  {
   "cell_type": "code",
   "execution_count": 8,
   "metadata": {},
   "outputs": [],
   "source": [
    "import torch\n",
    "from torch.utils.data import Dataset, DataLoader\n",
    "import torch.nn as nn\n",
    "\n",
    "import pandas as pd\n",
    "import numpy as np\n",
    "\n",
    "from tqdm import tqdm\n"
   ]
  },
  {
   "cell_type": "code",
   "execution_count": 9,
   "metadata": {},
   "outputs": [],
   "source": [
    "base_path = './kaggle/input/nfl-big-data-bowl-2026-prediction/train'\n",
    "lr = .001\n",
    "num_epochs = 3\n",
    "batch_size = 32"
   ]
  },
  {
   "cell_type": "code",
   "execution_count": 10,
   "metadata": {},
   "outputs": [],
   "source": [
    "def format_input(input):\n",
    "    ipt = pd.concat(input, ignore_index=True)\n",
    "    ipt = ipt[ipt['player_to_predict'] == True].copy(deep=True)\n",
    "    radians = np.deg2rad(ipt['dir'])\n",
    "    ipt['vx'] = ipt['s'] * np.sin(radians)\n",
    "    ipt['vy'] = ipt['s'] * np.cos(radians)\n",
    "    ipt = ipt[['game_id', 'play_id', 'nfl_id', 'x', 'y', 'ball_land_x', 'ball_land_y', 'vx', 'vy']]\n",
    "    ipt = {\n",
    "        f\"{gid}_{pid}_{nid}\": g\n",
    "        for (gid, pid, nid), g in ipt.groupby(['game_id', 'play_id', 'nfl_id'])\n",
    "    }\n",
    "    return ipt\n"
   ]
  },
  {
   "cell_type": "code",
   "execution_count": 11,
   "metadata": {},
   "outputs": [],
   "source": [
    "raw_input_train = [pd.read_csv(f'{base_path}/input_2023_w0{i}.csv') for i in range(1,10)]\n",
    "raw_output_train = [pd.read_csv(f'{base_path}/output_2023_w0{i}.csv') for i in range(1,10)]\n",
    "\n",
    "in_train = format_input(raw_input_train)\n",
    "out_train = pd.concat(raw_output_train, ignore_index=True)"
   ]
  },
  {
   "cell_type": "code",
   "execution_count": 12,
   "metadata": {},
   "outputs": [],
   "source": [
    "class TrainDataset(Dataset):\n",
    "    def __init__(self, train_out, train_in):\n",
    "        self.train_out = train_out\n",
    "        self.train_in = train_in\n",
    "\n",
    "    def __len__(self):\n",
    "        return len(self.train_out)\n",
    "\n",
    "    def __getitem__(self, idx):\n",
    "        row = self.train_out.iloc[idx]\n",
    "        fid = f\"{int(row['game_id'])}_{int(row['play_id'])}_{int(row['nfl_id'])}\"\n",
    "        train_instance = self.train_in[fid]\n",
    "\n",
    "        x1 = train_instance.iloc[-1][['ball_land_x', 'ball_land_y', 'vx', 'vy']]\n",
    "        x1 = pd.concat([x1, pd.Series([row['frame_id']])], ignore_index=True)\n",
    "        x1 = torch.tensor(x1.values, dtype=torch.float32)\n",
    "\n",
    "        x2 = train_instance.iloc[-1][['x', 'y']]\n",
    "        x2 = torch.tensor(x2.values, dtype=torch.float32)\n",
    "\n",
    "        y = row[['x', 'y']]\n",
    "        y = torch.tensor(y.values, dtype=torch.float32)\n",
    "\n",
    "        return x1, x2, y\n",
    "\n",
    "\n",
    "train_dataset = TrainDataset(out_train, in_train)\n",
    "train_loader = DataLoader(train_dataset, batch_size=batch_size, shuffle=True)"
   ]
  },
  {
   "cell_type": "code",
   "execution_count": 13,
   "metadata": {},
   "outputs": [],
   "source": [
    "class MLP(nn.Module):\n",
    "    def __init__(self):\n",
    "        super().__init__()\n",
    "        self.mlp = nn.Sequential(\n",
    "            nn.Linear(5, 16),\n",
    "            nn.ReLU(),\n",
    "            nn.Linear(16, 2)\n",
    "        )\n",
    "\n",
    "    def forward(self, x1, x2):\n",
    "        y = self.mlp(x1)\n",
    "        out = x2 + y\n",
    "        return out\n",
    "    \n",
    "device = torch.device(\"cuda\" if torch.cuda.is_available() else \"cpu\")\n",
    "model = MLP().to(device)\n",
    "model = torch.compile(model)\n",
    "optimizer = torch.optim.Adam(model.parameters(), lr=lr)\n",
    "criterion = nn.MSELoss()"
   ]
  },
  {
   "cell_type": "code",
   "execution_count": 14,
   "metadata": {},
   "outputs": [
    {
     "name": "stderr",
     "output_type": "stream",
     "text": [
      "                                                             \r"
     ]
    },
    {
     "name": "stdout",
     "output_type": "stream",
     "text": [
      "Epoch 1: Loss = 3.9110\n"
     ]
    },
    {
     "name": "stderr",
     "output_type": "stream",
     "text": [
      "                                                             \r"
     ]
    },
    {
     "name": "stdout",
     "output_type": "stream",
     "text": [
      "Epoch 2: Loss = 2.5523\n"
     ]
    },
    {
     "name": "stderr",
     "output_type": "stream",
     "text": [
      "                                                             "
     ]
    },
    {
     "name": "stdout",
     "output_type": "stream",
     "text": [
      "Epoch 3: Loss = 2.3934\n"
     ]
    },
    {
     "name": "stderr",
     "output_type": "stream",
     "text": [
      "\r"
     ]
    }
   ],
   "source": [
    "# --- Training Loop ---\n",
    "for epoch in range(num_epochs):\n",
    "    total_loss = 0.0\n",
    "    for t1, t2, t3 in tqdm(train_loader, desc=f\"Epoch {epoch+1}\", leave=False):\n",
    "        t1, t2, t3 = t1.to(device), t2.to(device), t3.to(device)\n",
    "\n",
    "        preds = model(t1, t2)\n",
    "        loss = criterion(preds, t3)\n",
    "\n",
    "        optimizer.zero_grad()\n",
    "        loss.backward()\n",
    "        optimizer.step()\n",
    "\n",
    "        total_loss += loss.item()\n",
    "\n",
    "    print(f\"Epoch {epoch+1}: Loss = {total_loss / len(train_loader):.4f}\")\n"
   ]
  },
  {
   "cell_type": "code",
   "execution_count": 15,
   "metadata": {},
   "outputs": [],
   "source": [
    "# Test data preprocessing\n",
    "instances = pd.read_csv('./kaggle/input/nfl-big-data-bowl-2026-prediction/test.csv')\n",
    "eval_in = pd.read_csv('./kaggle/input/nfl-big-data-bowl-2026-prediction/test_input.csv')\n",
    "\n",
    "eval_in = format_input([eval_in])"
   ]
  },
  {
   "cell_type": "code",
   "execution_count": 16,
   "metadata": {},
   "outputs": [],
   "source": [
    "def compute_pos(row):\n",
    "    gid, pid, nid, fid = row['game_id'], row['play_id'], row['nfl_id'], row['frame_id']\n",
    "    full_id = f\"{gid}_{pid}_{nid}_{fid}\"\n",
    "    ipt = eval_in[f\"{gid}_{pid}_{nid}\"]\n",
    "\n",
    "    # Model implementation dependent --------------\n",
    "    fid = f\"{int(row['game_id'])}_{int(row['play_id'])}_{int(row['nfl_id'])}\"\n",
    "    train_instance = eval_in[fid]\n",
    "\n",
    "    x1 = train_instance.iloc[-1][['ball_land_x', 'ball_land_y', 'vx', 'vy']]\n",
    "    x1 = pd.concat([x1, pd.Series([row['frame_id']])], ignore_index=True)\n",
    "    x1 = torch.tensor(x1.values, dtype=torch.float32)\n",
    "    x1 = x1.to(device)\n",
    "\n",
    "    x2 = train_instance.iloc[-1][['x', 'y']]\n",
    "    x2 = torch.tensor(x2.values, dtype=torch.float32)\n",
    "    x2 = x2.to(device)\n",
    "    # ----------------------------------------\n",
    "\n",
    "    pred_x, pred_y = model(x1, x2).squeeze(0).tolist()\n",
    "    return pd.Series([full_id, pred_x, pred_y])"
   ]
  },
  {
   "cell_type": "code",
   "execution_count": 17,
   "metadata": {},
   "outputs": [
    {
     "data": {
      "text/html": [
       "<div>\n",
       "<style scoped>\n",
       "    .dataframe tbody tr th:only-of-type {\n",
       "        vertical-align: middle;\n",
       "    }\n",
       "\n",
       "    .dataframe tbody tr th {\n",
       "        vertical-align: top;\n",
       "    }\n",
       "\n",
       "    .dataframe thead th {\n",
       "        text-align: right;\n",
       "    }\n",
       "</style>\n",
       "<table border=\"1\" class=\"dataframe\">\n",
       "  <thead>\n",
       "    <tr style=\"text-align: right;\">\n",
       "      <th></th>\n",
       "      <th>id</th>\n",
       "      <th>x</th>\n",
       "      <th>y</th>\n",
       "    </tr>\n",
       "  </thead>\n",
       "  <tbody>\n",
       "    <tr>\n",
       "      <th>0</th>\n",
       "      <td>2024120805_74_54586_1</td>\n",
       "      <td>88.460320</td>\n",
       "      <td>33.482166</td>\n",
       "    </tr>\n",
       "    <tr>\n",
       "      <th>1</th>\n",
       "      <td>2024120805_74_54586_2</td>\n",
       "      <td>88.618599</td>\n",
       "      <td>33.436996</td>\n",
       "    </tr>\n",
       "    <tr>\n",
       "      <th>2</th>\n",
       "      <td>2024120805_74_54586_3</td>\n",
       "      <td>88.787148</td>\n",
       "      <td>33.376438</td>\n",
       "    </tr>\n",
       "    <tr>\n",
       "      <th>3</th>\n",
       "      <td>2024120805_74_54586_4</td>\n",
       "      <td>88.971947</td>\n",
       "      <td>33.424522</td>\n",
       "    </tr>\n",
       "    <tr>\n",
       "      <th>4</th>\n",
       "      <td>2024120805_74_54586_5</td>\n",
       "      <td>89.168053</td>\n",
       "      <td>33.651058</td>\n",
       "    </tr>\n",
       "    <tr>\n",
       "      <th>5</th>\n",
       "      <td>2024120805_74_54586_6</td>\n",
       "      <td>89.364166</td>\n",
       "      <td>33.877594</td>\n",
       "    </tr>\n",
       "    <tr>\n",
       "      <th>6</th>\n",
       "      <td>2024120805_74_54586_7</td>\n",
       "      <td>89.560280</td>\n",
       "      <td>34.104126</td>\n",
       "    </tr>\n",
       "    <tr>\n",
       "      <th>7</th>\n",
       "      <td>2024120805_74_54586_8</td>\n",
       "      <td>89.756386</td>\n",
       "      <td>34.330662</td>\n",
       "    </tr>\n",
       "    <tr>\n",
       "      <th>8</th>\n",
       "      <td>2024120805_74_54586_9</td>\n",
       "      <td>89.952499</td>\n",
       "      <td>34.557198</td>\n",
       "    </tr>\n",
       "    <tr>\n",
       "      <th>9</th>\n",
       "      <td>2024120805_74_54586_10</td>\n",
       "      <td>90.117966</td>\n",
       "      <td>34.754608</td>\n",
       "    </tr>\n",
       "  </tbody>\n",
       "</table>\n",
       "</div>"
      ],
      "text/plain": [
       "                       id          x          y\n",
       "0   2024120805_74_54586_1  88.460320  33.482166\n",
       "1   2024120805_74_54586_2  88.618599  33.436996\n",
       "2   2024120805_74_54586_3  88.787148  33.376438\n",
       "3   2024120805_74_54586_4  88.971947  33.424522\n",
       "4   2024120805_74_54586_5  89.168053  33.651058\n",
       "5   2024120805_74_54586_6  89.364166  33.877594\n",
       "6   2024120805_74_54586_7  89.560280  34.104126\n",
       "7   2024120805_74_54586_8  89.756386  34.330662\n",
       "8   2024120805_74_54586_9  89.952499  34.557198\n",
       "9  2024120805_74_54586_10  90.117966  34.754608"
      ]
     },
     "execution_count": 17,
     "metadata": {},
     "output_type": "execute_result"
    }
   ],
   "source": [
    "# Final submission df\n",
    "model.eval()\n",
    "\n",
    "submission = instances.copy(deep=True)\n",
    "with torch.no_grad():\n",
    "    submission[['id', 'x', 'y']] = submission.apply(compute_pos, axis=1)\n",
    "submission = submission[['id', 'x', 'y']]\n",
    "submission.head(10)"
   ]
  },
  {
   "cell_type": "code",
   "execution_count": 18,
   "metadata": {},
   "outputs": [],
   "source": [
    "# Submission to csv\n",
    "submission.to_csv('submission.csv', index=False)"
   ]
  },
  {
   "cell_type": "code",
   "execution_count": null,
   "metadata": {},
   "outputs": [],
   "source": []
  }
 ],
 "metadata": {
  "kernelspec": {
   "display_name": "base",
   "language": "python",
   "name": "python3"
  },
  "language_info": {
   "codemirror_mode": {
    "name": "ipython",
    "version": 3
   },
   "file_extension": ".py",
   "mimetype": "text/x-python",
   "name": "python",
   "nbconvert_exporter": "python",
   "pygments_lexer": "ipython3",
   "version": "3.12.4"
  }
 },
 "nbformat": 4,
 "nbformat_minor": 2
}
