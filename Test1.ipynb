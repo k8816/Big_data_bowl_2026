{
 "cells": [
  {
   "cell_type": "code",
   "execution_count": null,
   "metadata": {},
   "outputs": [],
   "source": [
    "# Kaggle notes:\n",
    "# Input data files are available in the read-only \"../input/\" directory\n",
    "# You can write up to 20GB to the current directory (/kaggle/working/) that gets preserved as output when you create a version using \"Save & Run All\" \n",
    "# You can also write temporary files to /kaggle/temp/, but they won't be saved outside of the current session"
   ]
  },
  {
   "cell_type": "code",
   "execution_count": 4,
   "metadata": {},
   "outputs": [],
   "source": [
    "# IMPORTS\n",
    "import numpy as np\n",
    "import pandas as pd\n",
    "\n",
    "import os"
   ]
  },
  {
   "cell_type": "code",
   "execution_count": 6,
   "metadata": {},
   "outputs": [
    {
     "name": "stdout",
     "output_type": "stream",
     "text": [
      "./kaggle/input/.DS_Store\n",
      "./kaggle/input/nfl-big-data-bowl-2026-prediction/.DS_Store\n",
      "./kaggle/input/nfl-big-data-bowl-2026-prediction/test.csv\n",
      "./kaggle/input/nfl-big-data-bowl-2026-prediction/test_input.csv\n",
      "./kaggle/input/nfl-big-data-bowl-2026-prediction/sample_submission.csv\n",
      "./kaggle/input/nfl-big-data-bowl-2026-prediction/train/output_2023_w08.csv\n",
      "./kaggle/input/nfl-big-data-bowl-2026-prediction/train/output_2023_w09.csv\n",
      "./kaggle/input/nfl-big-data-bowl-2026-prediction/train/output_2023_w18.csv\n",
      "./kaggle/input/nfl-big-data-bowl-2026-prediction/train/input_2023_w14.csv\n",
      "./kaggle/input/nfl-big-data-bowl-2026-prediction/train/input_2023_w01.csv\n",
      "./kaggle/input/nfl-big-data-bowl-2026-prediction/train/input_2023_w15.csv\n",
      "./kaggle/input/nfl-big-data-bowl-2026-prediction/train/input_2023_w03.csv\n",
      "./kaggle/input/nfl-big-data-bowl-2026-prediction/train/input_2023_w17.csv\n",
      "./kaggle/input/nfl-big-data-bowl-2026-prediction/train/input_2023_w16.csv\n",
      "./kaggle/input/nfl-big-data-bowl-2026-prediction/train/input_2023_w02.csv\n",
      "./kaggle/input/nfl-big-data-bowl-2026-prediction/train/input_2023_w06.csv\n",
      "./kaggle/input/nfl-big-data-bowl-2026-prediction/train/input_2023_w12.csv\n",
      "./kaggle/input/nfl-big-data-bowl-2026-prediction/train/input_2023_w13.csv\n",
      "./kaggle/input/nfl-big-data-bowl-2026-prediction/train/input_2023_w07.csv\n",
      "./kaggle/input/nfl-big-data-bowl-2026-prediction/train/input_2023_w11.csv\n",
      "./kaggle/input/nfl-big-data-bowl-2026-prediction/train/input_2023_w05.csv\n",
      "./kaggle/input/nfl-big-data-bowl-2026-prediction/train/input_2023_w04.csv\n",
      "./kaggle/input/nfl-big-data-bowl-2026-prediction/train/input_2023_w10.csv\n",
      "./kaggle/input/nfl-big-data-bowl-2026-prediction/train/input_2023_w09.csv\n",
      "./kaggle/input/nfl-big-data-bowl-2026-prediction/train/input_2023_w08.csv\n",
      "./kaggle/input/nfl-big-data-bowl-2026-prediction/train/input_2023_w18.csv\n",
      "./kaggle/input/nfl-big-data-bowl-2026-prediction/train/output_2023_w16.csv\n",
      "./kaggle/input/nfl-big-data-bowl-2026-prediction/train/output_2023_w02.csv\n",
      "./kaggle/input/nfl-big-data-bowl-2026-prediction/train/output_2023_w03.csv\n",
      "./kaggle/input/nfl-big-data-bowl-2026-prediction/train/output_2023_w17.csv\n",
      "./kaggle/input/nfl-big-data-bowl-2026-prediction/train/output_2023_w01.csv\n",
      "./kaggle/input/nfl-big-data-bowl-2026-prediction/train/output_2023_w15.csv\n",
      "./kaggle/input/nfl-big-data-bowl-2026-prediction/train/output_2023_w14.csv\n",
      "./kaggle/input/nfl-big-data-bowl-2026-prediction/train/output_2023_w04.csv\n",
      "./kaggle/input/nfl-big-data-bowl-2026-prediction/train/output_2023_w10.csv\n",
      "./kaggle/input/nfl-big-data-bowl-2026-prediction/train/output_2023_w11.csv\n",
      "./kaggle/input/nfl-big-data-bowl-2026-prediction/train/output_2023_w05.csv\n",
      "./kaggle/input/nfl-big-data-bowl-2026-prediction/train/output_2023_w13.csv\n",
      "./kaggle/input/nfl-big-data-bowl-2026-prediction/train/output_2023_w07.csv\n",
      "./kaggle/input/nfl-big-data-bowl-2026-prediction/train/output_2023_w06.csv\n",
      "./kaggle/input/nfl-big-data-bowl-2026-prediction/train/output_2023_w12.csv\n",
      "1\n"
     ]
    }
   ],
   "source": [
    "# Print all files under /kaggle/input\n",
    "for dirname, _, filenames in os.walk('./kaggle/input'): # IMPORTANT: Change all paths from \"./kaggle\" to \"/kaggle\" on submission\n",
    "    for filename in filenames:\n",
    "        print(os.path.join(dirname, filename))\n",
    "print(2)"
   ]
  },
  {
   "cell_type": "code",
   "execution_count": null,
   "metadata": {},
   "outputs": [],
   "source": []
  }
 ],
 "metadata": {
  "kernelspec": {
   "display_name": "base",
   "language": "python",
   "name": "python3"
  },
  "language_info": {
   "codemirror_mode": {
    "name": "ipython",
    "version": 3
   },
   "file_extension": ".py",
   "mimetype": "text/x-python",
   "name": "python",
   "nbconvert_exporter": "python",
   "pygments_lexer": "ipython3",
   "version": "3.12.4"
  }
 },
 "nbformat": 4,
 "nbformat_minor": 2
}
