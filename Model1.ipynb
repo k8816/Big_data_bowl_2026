{
 "cells": [
  {
   "cell_type": "code",
   "execution_count": 1,
   "metadata": {},
   "outputs": [],
   "source": [
    "import numpy as np\n",
    "import pandas as pd"
   ]
  },
  {
   "cell_type": "code",
   "execution_count": 2,
   "metadata": {},
   "outputs": [],
   "source": [
    "instances = pd.read_csv('./kaggle/input/nfl-big-data-bowl-2026-prediction/test.csv')\n",
    "input = pd.read_csv('./kaggle/input/nfl-big-data-bowl-2026-prediction/test_input.csv')\n",
    "\n",
    "input = input[input['player_to_predict'] == True]\n",
    "radians = np.deg2rad(input['dir'])\n",
    "input['vx'] = input['s'] * np.sin(radians)\n",
    "input['vy'] = input['s'] * np.cos(radians)\n",
    "input = input[['game_id', 'play_id', 'nfl_id', 'frame_id', 'x', 'y', 'num_frames_output', 'ball_land_x', 'ball_land_y', 'vx', 'vy']]\n",
    "\n",
    "inputs = {\n",
    "    f\"{gid}_{pid}_{nid}\": g\n",
    "    for (gid, pid, nid), g in input.groupby(['game_id', 'play_id', 'nfl_id'])\n",
    "}"
   ]
  },
  {
   "cell_type": "code",
   "execution_count": 3,
   "metadata": {},
   "outputs": [],
   "source": [
    "submission = instances.copy(deep=True)\n",
    "\n",
    "def compute_pos(row):\n",
    "    factor = .1\n",
    "    gid, pid, nid, fid = row['game_id'], row['play_id'], row['nfl_id'], row['frame_id']\n",
    "\n",
    "    ipt = inputs[f\"{gid}_{pid}_{nid}\"]\n",
    "    last_row = ipt.iloc[-1]\n",
    "    pred_x = last_row['x'] + (fid * last_row['vx'] * factor)\n",
    "    pred_y = last_row['y'] + (fid * last_row['vy'] * factor)\n",
    "    full_id = f\"{gid}_{pid}_{nid}_{fid}\"\n",
    "\n",
    "    return pd.Series([full_id, pred_x, pred_y])\n",
    "\n",
    "submission[['id', 'x', 'y']] = submission.apply(compute_pos, axis=1)\n",
    "\n",
    "\n",
    "submission = submission[['id', 'x', 'y']]\n",
    "submission.head(10)\n",
    "\n",
    "submission.to_csv('submission.csv', index=False)"
   ]
  }
 ],
 "metadata": {
  "kernelspec": {
   "display_name": "base",
   "language": "python",
   "name": "python3"
  },
  "language_info": {
   "codemirror_mode": {
    "name": "ipython",
    "version": 3
   },
   "file_extension": ".py",
   "mimetype": "text/x-python",
   "name": "python",
   "nbconvert_exporter": "python",
   "pygments_lexer": "ipython3",
   "version": "3.12.4"
  }
 },
 "nbformat": 4,
 "nbformat_minor": 2
}
